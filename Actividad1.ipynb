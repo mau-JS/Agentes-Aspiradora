{
 "cells": [
  {
   "cell_type": "code",
   "execution_count": 37,
   "id": "571355cd",
   "metadata": {},
   "outputs": [
    {
     "data": {
      "text/plain": [
       "'Nombre: Mauricio Juárez Sánchez\\n   Matrícula: A01660336\\n   M1.Actividad'"
      ]
     },
     "execution_count": 37,
     "metadata": {},
     "output_type": "execute_result"
    }
   ],
   "source": [
    "\"\"\"Nombre: Mauricio Juárez Sánchez\n",
    "   Matrícula: A01660336\n",
    "   M1.Actividad\"\"\""
   ]
  },
  {
   "cell_type": "code",
   "execution_count": 38,
   "id": "fd0e4477",
   "metadata": {},
   "outputs": [
    {
     "data": {
      "text/plain": [
       "'Recopilar siguiente información:\\n* Tiempo necesario para que las celdas estén limpias ( o se haya llegado al tiempo máximo).\\n* Porcentaje de celdas limpias después del termino de la simulación.\\n* Número de movimientos realizados por todos los agentes.\\n* Analiza como la cantidad de agentes impacta el tiempo dedicado, así como la cantidad de movimientos realizados.\\n* Desarrollar un informe con lo observado.\\n'"
      ]
     },
     "execution_count": 38,
     "metadata": {},
     "output_type": "execute_result"
    }
   ],
   "source": [
    "\"\"\"Entradas:\n",
    "* Habitación de MxN espacios - Cumple\n",
    "* Número de Agentes - Cumple\n",
    "* Porcentaje de celdas inicialmente sucias - Falta\n",
    "* Tiempo máximo de ejecución - Falta\n",
    "\"\"\"\n",
    "\n",
    "\"\"\"Simulación:\n",
    "* Inicializa las celdas sucias en ubicaciones aleatorias - Cumple\n",
    "* Todos los agentes empiezan en la celda [1,1] - Cumple\n",
    "* Sí la celda está sucia, aspira - Falta\n",
    "* Sí la celda está limpia, el agente elige una dirección aleatoria para moverse (unas de las 8 celdas vecinas)  - Falta\n",
    "* Al elegir la acción del movimiento, sí no puede moverse allí permanecerá en la misma celda. - Falta\n",
    "* Se ejecuta en el tiempo máximo establecido - Falta\"\"\"\n",
    "\n",
    "\"\"\"Recopilar siguiente información:\n",
    "* Tiempo necesario para que las celdas estén limpias ( o se haya llegado al tiempo máximo).\n",
    "* Porcentaje de celdas limpias después del termino de la simulación.\n",
    "* Número de movimientos realizados por todos los agentes.\n",
    "* Analiza como la cantidad de agentes impacta el tiempo dedicado, así como la cantidad de movimientos realizados.\n",
    "* Desarrollar un informe con lo observado.\n",
    "\"\"\""
   ]
  },
  {
   "cell_type": "code",
   "execution_count": 39,
   "id": "d40e1113",
   "metadata": {},
   "outputs": [],
   "source": [
    "import mesa\n",
    "import random\n",
    "import numpy as np\n",
    "class RobotAgent(mesa.Agent):\n",
    "    def __init__(self, unique_id, model):\n",
    "        super().__init__(unique_id, model)\n",
    "        \n",
    "    def move(self):\n",
    "        possible_steps = self.model.grid.get_neighborhood(self.pos, moore = True, include_center = False)\n",
    "        new_position = self.random.choice(possible_steps)\n",
    "        self.model.grid.move_agent(self, new_position)\n",
    "        \n",
    "    def step(self):\n",
    "        self.move()\n",
    "                \n",
    "    #Función para realizar movimiento\n",
    "    "
   ]
  },
  {
   "cell_type": "code",
   "execution_count": 40,
   "id": "0216ff27",
   "metadata": {},
   "outputs": [],
   "source": [
    "class RobotModel(mesa.Model):\n",
    "    \n",
    "    def __init__(self,N,width,height,porcentaje):\n",
    "        #Cantidad de agentes\n",
    "        self.num_agents = N\n",
    "        self.grid = mesa.space.MultiGrid(width, height, True)\n",
    "        #Tipo de activación de agentes\n",
    "        #Activando todos los agentes a la vez\n",
    "        self.schedule = mesa.time.SimultaneousActivation(self)\n",
    "        \n",
    "       \n",
    "        #Determinando la cantidad de bloques sucios\n",
    "        bloques = int( width * height * (porcentaje/100))\n",
    "        print(bloques)\n",
    "        #Creando tablero de un tamaño dado, es para checar el status de limpieza\n",
    "        list = []\n",
    "        list1 = [True,False]\n",
    "        print(bloques)\n",
    "        tablero = [[random.choice(list1)] * width for i in range(height)]\n",
    "        print(tablero)\n",
    "        #AQUÍ TERMINA CREACIÓN DEL TABLERO\n",
    "        \n",
    "        #Creando agentes\n",
    "        for i in range(self.num_agents):\n",
    "            a = RobotAgent(i, self)\n",
    "            self.schedule.add(a)\n",
    "            \n",
    "            #Inicializando todo robot en celda (1,1)\n",
    "            x = 1\n",
    "            y = 1\n",
    "            #Con este método posicionamos al agente \"a\" en la celda (1,1)\n",
    "            self.grid.place_agent(a,(x,y))\n",
    "    #Llamamos a esta función cada que deseamos realizar un step.\n",
    "    def step(self):\n",
    "        self.schedule.step()"
   ]
  },
  {
   "cell_type": "code",
   "execution_count": null,
   "id": "91bba158",
   "metadata": {},
   "outputs": [],
   "source": []
  },
  {
   "cell_type": "code",
   "execution_count": 41,
   "id": "1e9aaca2",
   "metadata": {},
   "outputs": [
    {
     "name": "stdout",
     "output_type": "stream",
     "text": [
      "40\n",
      "40\n",
      "[[True, True, True, True, True, True, True, True, True, True], [True, True, True, True, True, True, True, True, True, True], [False, False, False, False, False, False, False, False, False, False], [True, True, True, True, True, True, True, True, True, True], [False, False, False, False, False, False, False, False, False, False], [False, False, False, False, False, False, False, False, False, False], [True, True, True, True, True, True, True, True, True, True], [False, False, False, False, False, False, False, False, False, False], [True, True, True, True, True, True, True, True, True, True], [False, False, False, False, False, False, False, False, False, False]]\n"
     ]
    }
   ],
   "source": [
    "model = RobotModel(10, 10, 10,40)\n",
    "model.step()"
   ]
  },
  {
   "cell_type": "code",
   "execution_count": null,
   "id": "4dda5255",
   "metadata": {},
   "outputs": [],
   "source": []
  }
 ],
 "metadata": {
  "kernelspec": {
   "display_name": "Python 3 (ipykernel)",
   "language": "python",
   "name": "python3"
  },
  "language_info": {
   "codemirror_mode": {
    "name": "ipython",
    "version": 3
   },
   "file_extension": ".py",
   "mimetype": "text/x-python",
   "name": "python",
   "nbconvert_exporter": "python",
   "pygments_lexer": "ipython3",
   "version": "3.11.0"
  }
 },
 "nbformat": 4,
 "nbformat_minor": 5
}
